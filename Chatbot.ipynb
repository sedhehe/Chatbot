{
  "nbformat": 4,
  "nbformat_minor": 0,
  "metadata": {
    "colab": {
      "provenance": []
    },
    "kernelspec": {
      "name": "python3",
      "display_name": "Python 3"
    },
    "language_info": {
      "name": "python"
    }
  },
  "cells": [
    {
      "cell_type": "code",
      "execution_count": null,
      "metadata": {
        "id": "8sUlt5DZBr79"
      },
      "outputs": [],
      "source": [
        "import nltk\n",
        "from nltk.chat.util import Chat, reflections\n",
        "nltk.download('punkt')"
      ]
    },
    {
      "cell_type": "code",
      "source": [
        "patterns = [\n",
        "(r'hi|hello|hey', ['Hello!', 'Hi there!', 'Hey!']),\n",
        "(r'how are you', ['I am good, thank you!', 'I\\'m doing well, how about you?']),\n",
        "(r'(.*) your name', ['I am a chatbot.', 'You can call me YourAI.']),\n",
        "(r'(.*) (age|old)', ['I am just a computer program, so I don\\'t have an age.']),\n",
        "(r'what do you do', ['I can converse with you only to a certain extent.']),\n",
        "(r'quit', ['Bye!', 'Goodbye.', 'Take care!']),\n",
        "]\n",
        "chatbot = Chat(patterns, reflections)"
      ],
      "metadata": {
        "id": "i7C3aKUJByIZ"
      },
      "execution_count": null,
      "outputs": []
    },
    {
      "cell_type": "code",
      "source": [
        "def main():\n",
        "  print(\"Hello! I'm a chatbot. Type 'quit' to exit.\")\n",
        "  while True:\n",
        "    user_input = input('You: ')\n",
        "    if user_input.lower() == 'quit':\n",
        "      print(\"Chatbot: Bye!\")\n",
        "      break\n",
        "    response = chatbot.respond(user_input)\n",
        "    print(f'Chatbot: {response}')"
      ],
      "metadata": {
        "id": "TMngRGV2B0fI"
      },
      "execution_count": null,
      "outputs": []
    },
    {
      "cell_type": "code",
      "source": [
        "if __name__ == \"__main__\":\n",
        "  main()"
      ],
      "metadata": {
        "id": "q0PK-_WpB3WY"
      },
      "execution_count": null,
      "outputs": []
    }
  ]
}